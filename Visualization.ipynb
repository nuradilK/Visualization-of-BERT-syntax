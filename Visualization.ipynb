{
  "nbformat": 4,
  "nbformat_minor": 0,
  "metadata": {
    "colab": {
      "name": "Untitled3.ipynb",
      "provenance": [],
      "toc_visible": true,
      "machine_shape": "hm",
      "authorship_tag": "ABX9TyPsgblBOpt5yvAM+jTXzlc6",
      "include_colab_link": true
    },
    "kernelspec": {
      "name": "python3",
      "display_name": "Python 3"
    }
  },
  "cells": [
    {
      "cell_type": "markdown",
      "metadata": {
        "id": "view-in-github",
        "colab_type": "text"
      },
      "source": [
        "<a href=\"https://colab.research.google.com/github/nuradilK/Visualization-of-BERT-syntax/blob/master/Visualization.ipynb\" target=\"_parent\"><img src=\"https://colab.research.google.com/assets/colab-badge.svg\" alt=\"Open In Colab\"/></a>"
      ]
    },
    {
      "cell_type": "markdown",
      "metadata": {
        "id": "WTAllxIDMCMY",
        "colab_type": "text"
      },
      "source": [
        "#Preprocessing and Training"
      ]
    },
    {
      "cell_type": "code",
      "metadata": {
        "id": "PENEnN9KUFax",
        "colab_type": "code",
        "colab": {}
      },
      "source": [
        "!pip install pytorch-pretrained-bert\n",
        "!pip install transformers\n",
        "!pip install PyStanfordDependencies\n",
        "!pip install asciitree"
      ],
      "execution_count": 0,
      "outputs": []
    },
    {
      "cell_type": "code",
      "metadata": {
        "id": "gxu4o0wwT0WY",
        "colab_type": "code",
        "colab": {}
      },
      "source": [
        "from pytorch_pretrained_bert import BertTokenizer, BertModel, BertForMaskedLM\n",
        "import matplotlib.pyplot as plt\n",
        "import transformers as ppb\n",
        "import torch\n",
        "%matplotlib inline\n",
        "%matplotlib notebook"
      ],
      "execution_count": 0,
      "outputs": []
    },
    {
      "cell_type": "code",
      "metadata": {
        "id": "abnPQF9Unww3",
        "colab_type": "code",
        "colab": {}
      },
      "source": [
        "device = torch.device('cpu')\n",
        "tokenizer = BertTokenizer.from_pretrained('bert-large-cased')\n",
        "Model = BertModel.from_pretrained('bert-large-cased')\n",
        "LAYER_COUNT = 24\n",
        "FEATURE_COUNT = 1024\n",
        "Model.to(device)\n",
        "Model.eval()"
      ],
      "execution_count": 0,
      "outputs": []
    },
    {
      "cell_type": "code",
      "metadata": {
        "id": "x1I-Saqp0uvM",
        "colab_type": "code",
        "colab": {}
      },
      "source": [
        "import math\n",
        "def dist(node1, node2):\n",
        "  return math.sqrt((node1[0] - node2[0])**2 + (node1[1] - node2[1])**2)\n",
        "\n",
        "def getRoot(node, parents):\n",
        "  if node == parents[node]:\n",
        "    return node\n",
        "  parents[node] = getRoot(parents[node], parents)\n",
        "  return parents[node]\n",
        "\n",
        "def unite(node1, node2, parents):\n",
        "  parents[getRoot(node1, parents)] = parents[getRoot(node2, parents)]\n",
        "\n",
        "def Min_Spanning_Tree(graph):\n",
        "  edges = []\n",
        "  for i in range(len(graph)):\n",
        "    for j in range(len(graph)):\n",
        "      if j <= i or colors[i] != colors[j]:\n",
        "        continue\n",
        "      edges.append((dist(graph[i], graph[j]), (i, j)))\n",
        "\n",
        "  parents = []\n",
        "  for i in range(len(graph)):\n",
        "    parents.append(i)\n",
        "  \n",
        "  tree = []\n",
        "  for edge in sorted(edges):\n",
        "    node1, node2 = edge[1]\n",
        "    if getRoot(node1, parents) != getRoot(node2, parents):\n",
        "      tree.append(edge[1])\n",
        "      unite(node1, node2, parents)\n",
        "\n",
        "  return tree\n",
        "  "
      ],
      "execution_count": 0,
      "outputs": []
    },
    {
      "cell_type": "code",
      "metadata": {
        "id": "aBX6nxUrkWnX",
        "colab_type": "code",
        "colab": {}
      },
      "source": [
        "from sklearn.decomposition import PCA\n",
        "from sklearn.preprocessing import StandardScaler\n",
        "from matplotlib import collections  as mc\n",
        "%matplotlib inline\n",
        "\n",
        "def PCA_projection(x, text):\n",
        "  x = StandardScaler().fit_transform(x)\n",
        "  pca = PCA(n_components=2)\n",
        "  principalComponents = pca.fit_transform(x)\n",
        "\n",
        "  tree = Min_Spanning_Tree(principalComponents)\n",
        "\n",
        "  fig = plt.figure(figsize = (8,8))\n",
        "  ax = fig.add_subplot(1,1,1) \n",
        "\n",
        "  for i, node in enumerate(principalComponents):\n",
        "    ax.scatter(node[0], node[1])\n",
        "\n",
        "  for i, node in enumerate(principalComponents):\n",
        "    ax.annotate(text[i], (node[0], node[1]))\n",
        "\n",
        "  lines = []\n",
        "  for pair in tree:\n",
        "    lines.append([principalComponents[pair[0]], principalComponents[pair[1]]])\n",
        "\n",
        "\n",
        "  lc = mc.LineCollection(lines, linewidths=1)\n",
        "  ax.add_collection(lc)\n",
        "  ax.autoscale()\n",
        "  \n",
        "# ax.grid()"
      ],
      "execution_count": 0,
      "outputs": []
    },
    {
      "cell_type": "code",
      "metadata": {
        "id": "Ecmmz3n3qx89",
        "colab_type": "code",
        "colab": {}
      },
      "source": [
        "%%bash\n",
        "git clone https://github.com/john-hewitt/structural-probes/\n",
        "cd structural-probes\n",
        "conda install --file requirements.txt\n",
        "pip install pytorch-pretrained-bert\n",
        "chmod +rwx download_example.sh"
      ],
      "execution_count": 0,
      "outputs": []
    },
    {
      "cell_type": "code",
      "metadata": {
        "id": "ZDRA3Bj-mUxv",
        "colab_type": "code",
        "outputId": "343ec123-b7a8-4d1a-a3e0-8c1ffe57a64e",
        "colab": {
          "base_uri": "https://localhost:8080/",
          "height": 71
        }
      },
      "source": [
        "import os\n",
        "\n",
        "os.chdir('/content/structural-probes/structural-probes') \n",
        "\n",
        "import data\n",
        "import loss\n",
        "import model\n",
        "import probe\n",
        "import regimen\n",
        "import reporter\n",
        "import task\n",
        "import run_experiment\n",
        "import run_demo\n",
        "\n",
        "os.chdir('/content/') "
      ],
      "execution_count": 7,
      "outputs": [
        {
          "output_type": "stream",
          "text": [
            "/usr/local/lib/python3.6/dist-packages/statsmodels/tools/_testing.py:19: FutureWarning: pandas.util.testing is deprecated. Use the functions in the public API at pandas.testing instead.\n",
            "  import pandas.util.testing as tm\n"
          ],
          "name": "stderr"
        }
      ]
    },
    {
      "cell_type": "code",
      "metadata": {
        "id": "CHExkyypGzHh",
        "colab_type": "code",
        "colab": {}
      },
      "source": [
        "import yaml\n",
        "import torch\n",
        "\n",
        "\"\"\"\n",
        "  Do not forget to paste args.yaml and pretrained predictor.params.\n",
        "\"\"\"\n",
        "\n",
        "class SomeClass():\n",
        "  def __init__(self):\n",
        "    #path to args.yaml\n",
        "    self.experiment_config = '/content/args.yaml'\n",
        "    self.results_dir = ''\n",
        "    self.train_probe = -1\n",
        "    self.report_results = 1\n",
        "    self.seed = 0\n",
        "\n",
        "yaml_args = yaml.load(open('/content/args.yaml'))\n",
        "yaml_args['device'] = torch.device(\"cpu\")\n",
        "\n",
        "# cli_args = SomeClass()\n",
        "# run_experiment.setup_new_experiment_dir(cli_args, yaml_args, cli_args.results_dir)\n",
        "# run_experiment.execute_experiment(yaml_args, train_probe=cli_args.train_probe, report_results=cli_args.report_results)"
      ],
      "execution_count": 0,
      "outputs": []
    },
    {
      "cell_type": "code",
      "metadata": {
        "id": "PRvc0EcXiqCU",
        "colab_type": "code",
        "outputId": "b8d83d57-d660-4ac7-a395-f9eedabffc6d",
        "colab": {
          "base_uri": "https://localhost:8080/",
          "height": 51
        }
      },
      "source": [
        "pathToPredictorParams = '/content/predictor.params'\n",
        "yaml_args['probe']['distance_params_path'] = pathToPredictorParams\n",
        "\n",
        "distance_probe = probe.TwoWordPSDProbe(yaml_args)\n",
        "distance_probe.load_state_dict(torch.load(yaml_args['probe']['distance_params_path'], map_location=yaml_args['device']))"
      ],
      "execution_count": 9,
      "outputs": [
        {
          "output_type": "stream",
          "text": [
            "Constructing TwoWordPSDProbe\n"
          ],
          "name": "stdout"
        },
        {
          "output_type": "execute_result",
          "data": {
            "text/plain": [
              "<All keys matched successfully>"
            ]
          },
          "metadata": {
            "tags": []
          },
          "execution_count": 9
        }
      ]
    },
    {
      "cell_type": "markdown",
      "metadata": {
        "id": "S_uk4cddMKOS",
        "colab_type": "text"
      },
      "source": [
        "#Visualizing of the text"
      ]
    },
    {
      "cell_type": "code",
      "metadata": {
        "id": "2Sf0EN6Vm8XN",
        "colab_type": "code",
        "colab": {}
      },
      "source": [
        "def splitIntoSent(text):\n",
        "  sentences = []\n",
        "  Sentence = []\n",
        "  for i in text:\n",
        "    Sentence.append(i)\n",
        "    if i == '.':\n",
        "      sentences.append(Sentence)\n",
        "      Sentence = []\n",
        "  return sentences\n",
        "\n",
        "def clasify():\n",
        "  colors = []\n",
        "  cnt = 0\n",
        "  for sent in splitIntoSent(untokenized_sent):\n",
        "    for i in range(len(sent)):\n",
        "      colors.append(cnt)\n",
        "    cnt += 1\n",
        "  return colors"
      ],
      "execution_count": 0,
      "outputs": []
    },
    {
      "cell_type": "code",
      "metadata": {
        "id": "21GIATU-Q_k0",
        "colab_type": "code",
        "outputId": "4438fe46-b6d7-48d7-d2b3-260531c8497c",
        "colab": {
          "base_uri": "https://localhost:8080/",
          "height": 522
        }
      },
      "source": [
        "import numpy as np\n",
        "\n",
        "line = \"Factory payrolls fell in September . So did the Federal Reserve Board 's industrial-production index . This time , it was for dinner and dancing -- a block away .\"\n",
        "untokenized_sent = line.strip().split()\n",
        "tokenized_sent = tokenizer.wordpiece_tokenizer.tokenize('[CLS] ' + ' '.join(line.strip().split()) + ' [SEP]')\n",
        "print(untokenized_sent)\n",
        "untok_tok_mapping = data.SubwordDataset.match_tokenized_to_untokenized(tokenized_sent, untokenized_sent)\n",
        "\n",
        "indexed_tokens = tokenizer.convert_tokens_to_ids(tokenized_sent)\n",
        "segment_ids = [1 for x in tokenized_sent]\n",
        "\n",
        "tokens_tensor = torch.tensor([indexed_tokens])\n",
        "segments_tensors = torch.tensor([segment_ids])\n",
        "\n",
        "tokens_tensor = tokens_tensor.to(yaml_args['device'])\n",
        "segments_tensors = segments_tensors.to(yaml_args['device'])\n",
        "\n",
        "with torch.no_grad():\n",
        "  encoded_layers, _ = Model(tokens_tensor, segments_tensors)\n",
        "  single_layer_features = encoded_layers[yaml_args['model']['model_layer']]\n",
        "  representation = [torch.mean(single_layer_features[0,untok_tok_mapping[i][0]:untok_tok_mapping[i][-1]+1,:], dim=0) for i in range(len(untokenized_sent))]\n",
        "  # representation = representation.view(1, *representation.size())\n",
        "\n",
        "  transformed = []\n",
        "  for i in range(len(representation)):\n",
        "    transformed.append(np.dot(representation[i], distance_probe.proj.detach().numpy()))\n",
        "\n",
        "  colors = clasify()\n",
        "  PCA_projection(transformed, untokenized_sent)\n",
        "\n",
        "  \"\"\"\n",
        "\n",
        "  COULD YOU PLEASE CHECK TRANSFORMATION OF MY single_layer_features TO representation. I AM NOT SURE THAT I DID IT IN A RIGHT WAY.\n",
        "  I HAVE CHECKED THE DIMENSON OF representation array, IT'S OK.\n",
        "\n",
        "  \"\"\""
      ],
      "execution_count": 13,
      "outputs": [
        {
          "output_type": "stream",
          "text": [
            "['Factory', 'payrolls', 'fell', 'in', 'September', '.', 'So', 'did', 'the', 'Federal', 'Reserve', 'Board', \"'s\", 'industrial-production', 'index', '.', 'This', 'time', ',', 'it', 'was', 'for', 'dinner', 'and', 'dancing', '--', 'a', 'block', 'away', '.']\n"
          ],
          "name": "stdout"
        },
        {
          "output_type": "display_data",
          "data": {
            "image/png": "[encoded data removed]",
            "text/plain": [
              "<Figure size 576x576 with 1 Axes>"
            ]
          },
          "metadata": {
            "tags": [],
            "needs_background": "light"
          }
        }
      ]
    },
    {
      "cell_type": "markdown",
      "metadata": {
        "id": "iGb0RaVlL7DW",
        "colab_type": "text"
      },
      "source": [
        "#Parse Tree of the given text"
      ]
    },
    {
      "cell_type": "code",
      "metadata": {
        "id": "ws-WMw3aIPcD",
        "colab_type": "code",
        "outputId": "7ca35816-e12f-4fb2-ca40-e4ec317e993f",
        "colab": {
          "base_uri": "https://localhost:8080/",
          "height": 54
        }
      },
      "source": [
        "import StanfordDependencies\n",
        "sd = StanfordDependencies.get_instance(backend='subprocess')\n",
        "\n",
        "test = [\n",
        "\"\"\"( (S \n",
        "    (NP-SBJ (NN Factory) (NNS payrolls) )\n",
        "    (VP (VBD fell) \n",
        "      (PP-TMP (IN in) \n",
        "        (NP (NNP September) )))\n",
        "    (. .) ))\"\"\",\n",
        "\"\"\"( (SINV \n",
        "    (ADVP-PRD-TPC-1 (RB So) )\n",
        "    (VP (VBD did) \n",
        "      (VP (-NONE- *?*) \n",
        "        (ADVP-PRD (-NONE- *T*-1) )))\n",
        "    (NP-SBJ \n",
        "      (NP (DT the) (NNP Federal) (NNP Reserve) (NNP Board) (POS 's) )\n",
        "      (JJ industrial-production) (NN index) )\n",
        "    (. .) ))\"\"\",\n",
        "\"\"\"( (S \n",
        "    (NP-TMP (DT This) (NN time) )\n",
        "    (, ,) \n",
        "    (NP-SBJ (PRP it) )\n",
        "    (VP (VBD was) \n",
        "      (PP-PRD (IN for) \n",
        "        (NP \n",
        "          (NP (NN dinner) \n",
        "            (CC and)\n",
        "            (NN dancing) )\n",
        "          (: --) \n",
        "          (ADVP-LOC \n",
        "            (NP (DT a) (NN block) )\n",
        "            (RB away) ))))\n",
        "    (. .) ))\n",
        "\"\"\"]\n",
        "\n",
        "convertedText = [sd.convert_tree(data) for data in test]"
      ],
      "execution_count": 14,
      "outputs": [
        {
          "output_type": "stream",
          "text": [
            "Downloading 'http://search.maven.org/remotecontent?filepath=edu/stanford/nlp/stanford-corenlp/3.5.2/stanford-corenlp-3.5.2.jar' -> '/root/.local/share/pystanforddeps/stanford-corenlp-3.5.2.jar'\n"
          ],
          "name": "stdout"
        }
      ]
    },
    {
      "cell_type": "code",
      "metadata": {
        "id": "-6BBRyhFKT74",
        "colab_type": "code",
        "outputId": "2f783102-ff7d-4f3c-f88a-a19f64a09831",
        "colab": {
          "base_uri": "https://localhost:8080/",
          "height": 527
        }
      },
      "source": [
        "print(convertedText[0].as_asciitree())\n",
        "print(convertedText[1].as_asciitree())\n",
        "print(convertedText[2].as_asciitree())"
      ],
      "execution_count": 0,
      "outputs": [
        {
          "output_type": "stream",
          "text": [
            " fell [root]\n",
            "  +-- payrolls [nsubj]\n",
            "  |  +-- Factory [compound]\n",
            "  +-- September [nmod]\n",
            "  |  +-- in [case]\n",
            "  +-- . [punct]\n",
            " did [root]\n",
            "  +-- So [advmod]\n",
            "  +-- index [nsubj]\n",
            "  |  +-- Board [nmod:poss]\n",
            "  |  |  +-- the [det]\n",
            "  |  |  +-- Federal [compound]\n",
            "  |  |  +-- Reserve [compound]\n",
            "  |  |  +-- 's [case]\n",
            "  |  +-- industrial-production [amod]\n",
            "  +-- . [punct]\n",
            " dinner [root]\n",
            "  +-- time [nmod:tmod]\n",
            "  |  +-- This [det]\n",
            "  +-- , [punct]\n",
            "  +-- it [nsubj]\n",
            "  +-- was [cop]\n",
            "  +-- for [case]\n",
            "  +-- and [cc]\n",
            "  +-- dancing [conj]\n",
            "  +-- -- [punct]\n",
            "  +-- away [advmod]\n",
            "  |  +-- block [nmod:npmod]\n",
            "  |     +-- a [det]\n",
            "  +-- . [punct]\n"
          ],
          "name": "stdout"
        }
      ]
    },
    {
      "cell_type": "markdown",
      "metadata": {
        "id": "bpYb2DQRCfhV",
        "colab_type": "text"
      },
      "source": [
        "# Drafts\n"
      ]
    },
    {
      "cell_type": "code",
      "metadata": {
        "id": "A2itvgLdCjoB",
        "colab_type": "code",
        "colab": {}
      },
      "source": [
        "!curl --remote-name-all https://lindat.mff.cuni.cz/repository/xmlui/bitstream/handle/11234/1-3105{/ud-treebanks-v2.5.tgz,/ud-documentation-v2.5.tgz,/ud-tools-v2.5.tgz}\n",
        "!tar -xvf /content/ud-treebanks-v2.5.tgz"
      ],
      "execution_count": 0,
      "outputs": []
    },
    {
      "cell_type": "code",
      "metadata": {
        "id": "WYURV2iUCocu",
        "colab_type": "code",
        "colab": {}
      },
      "source": [
        "%%bash\n",
        "rm -rf /content/structural-probes/example/data/en_ewt-ud-sample\n",
        "mkdir /content/structural-probes/example/data/en_ewt-ud-sample\n",
        "mv /content/ud-treebanks-v2.5/UD_English-EWT/en_ewt-ud-dev.conllu /content/structural-probes/example/data/en_ewt-ud-sample\n",
        "mv /content/ud-treebanks-v2.5/UD_English-EWT/en_ewt-ud-test.conllu /content/structural-probes/example/data/en_ewt-ud-sample\n",
        "mv /content/ud-treebanks-v2.5/UD_English-EWT/en_ewt-ud-train.conllu /content/structural-probes/example/data/en_ewt-ud-sample\n",
        "rm -rf /content/ud-treebanks-v2.5\n",
        "rm /content/ud-documentation-v2.5.tgz\n",
        "rm /content/ud-tools-v2.5.tgz\n",
        "rm /content/ud-treebanks-v2.5.tgz"
      ],
      "execution_count": 0,
      "outputs": []
    },
    {
      "cell_type": "code",
      "metadata": {
        "id": "3EdbuPnoCrIH",
        "colab_type": "code",
        "colab": {}
      },
      "source": [
        "%%writefile /content/structural-probes/scripts/convert_conll_to_raw.py\n",
        "import sys\n",
        "import argparse\n",
        "\n",
        "argp = argparse.ArgumentParser()\n",
        "argp.add_argument('input_conll_filepath')\n",
        "argp.add_argument('output_filepath')\n",
        "args = argp.parse_args()\n",
        "\n",
        "buf = []\n",
        "f = open(args.output_filepath, 'w')\n",
        "for line in open(args.input_conll_filepath):\n",
        "  if line.startswith('#'):\n",
        "    continue\n",
        "  if not line.strip():\n",
        "    f.write(' '.join(buf) + '\\n')\n",
        "    buf = []\n",
        "  else:\n",
        "    buf.append(line.split('\\t')[1])\n",
        "if buf:\n",
        "    f.write(' '.join(buf) + '\\n')\n",
        "f.close()\n"
      ],
      "execution_count": 0,
      "outputs": []
    },
    {
      "cell_type": "code",
      "metadata": {
        "id": "klK0Lp75C1dY",
        "colab_type": "code",
        "colab": {}
      },
      "source": [
        "%%bash\n",
        "python3 /content/structural-probes/scripts/convert_conll_to_raw.py /content/structural-probes/example/data/en_ewt-ud-sample/en_ewt-ud-dev.conllu /content/structural-probes/example/data/en_ewt-ud-sample/en_ewt-ud-dev.txt\n",
        "python3 /content/structural-probes/scripts/convert_conll_to_raw.py /content/structural-probes/example/data/en_ewt-ud-sample/en_ewt-ud-test.conllu /content/structural-probes/example/data/en_ewt-ud-sample/en_ewt-ud-test.txt \n",
        "python3 /content/structural-probes/scripts/convert_conll_to_raw.py /content/structural-probes/example/data/en_ewt-ud-sample/en_ewt-ud-train.conllu /content/structural-probes/example/data/en_ewt-ud-sample/en_ewt-ud-train.txt "
      ],
      "execution_count": 0,
      "outputs": []
    },
    {
      "cell_type": "code",
      "metadata": {
        "id": "SV39TNySC_4b",
        "colab_type": "code",
        "colab": {}
      },
      "source": [
        "%%bash\n",
        "cd /content/structural-probes/scripts\n",
        "python3 convert_raw_to_bert.py /content/structural-probes/example/data/en_ewt-ud-sample/en_ewt-ud-dev.txt /content/structural-probes/example/data/en-ewt-ud-sample-bert/en_ewt-ud-dev.hdf5 large"
      ],
      "execution_count": 0,
      "outputs": []
    },
    {
      "cell_type": "code",
      "metadata": {
        "id": "ciAuySDpDDA6",
        "colab_type": "code",
        "colab": {}
      },
      "source": [
        "%%bash\n",
        "cd /content/structural-probes/scripts\n",
        "python3 convert_raw_to_bert.py /content/structural-probes/example/data/en_ewt-ud-sample/en_ewt-ud-test.txt /content/structural-probes/example/data/en-ewt-ud-sample-bert/en_ewt-ud-test.hdf5 large"
      ],
      "execution_count": 0,
      "outputs": []
    },
    {
      "cell_type": "code",
      "metadata": {
        "id": "13reT7jgDGDw",
        "colab_type": "code",
        "colab": {}
      },
      "source": [
        "%%bash\n",
        "cd /content/structural-probes/scripts\n",
        "python3 convert_raw_to_bert.py /content/structural-probes/example/data/en_ewt-ud-sample/en_ewt-ud-train.txt /content/structural-probes/example/data/en-ewt-ud-sample-bert/en_ewt-ud-train.hdf5 large"
      ],
      "execution_count": 0,
      "outputs": []
    }
  ]
}